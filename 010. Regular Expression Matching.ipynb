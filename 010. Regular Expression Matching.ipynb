{
 "cells": [
  {
   "cell_type": "markdown",
   "metadata": {},
   "source": [
    "Given an input string (s) and a pattern (p), implement regular expression matching with support for '.' and '*'.\n",
    "\n",
    "'.' Matches any single character.\n",
    "'*' Matches zero or more of the preceding element.\n",
    "The matching should cover the entire input string (not partial).\n",
    "\n",
    "Note:\n",
    "\n",
    "s could be empty and contains only lowercase letters a-z.\n",
    "p could be empty and contains only lowercase letters a-z, and characters like . or *.\n",
    "Example 1:\n",
    "\n",
    "Input:\n",
    "s = \"aa\"\n",
    "p = \"a\"\n",
    "Output: false\n",
    "Explanation: \"a\" does not match the entire string \"aa\".\n",
    "Example 2:\n",
    "\n",
    "Input:\n",
    "s = \"aa\"\n",
    "p = \"a*\"\n",
    "Output: true\n",
    "Explanation: '*' means zero or more of the precedeng element, 'a'. Therefore, by repeating 'a' once, it becomes \"aa\".\n",
    "Example 3:\n",
    "\n",
    "Input:\n",
    "s = \"ab\"\n",
    "p = \".*\"\n",
    "Output: true\n",
    "Explanation: \".*\" means \"zero or more (*) of any character (.)\".\n",
    "Example 4:\n",
    "\n",
    "Input:\n",
    "s = \"aab\"\n",
    "p = \"c*a*b\"\n",
    "Output: true\n",
    "Explanation: c can be repeated 0 times, a can be repeated 1 time. Therefore it matches \"aab\".\n",
    "Example 5:\n",
    "\n",
    "Input:\n",
    "s = \"mississippi\"\n",
    "p = \"mis*is*p*.\"\n",
    "Output: false\n"
   ]
  },
  {
   "cell_type": "code",
   "execution_count": null,
   "metadata": {},
   "outputs": [],
   "source": [
    "class Solution(object):\n",
    "    def isMatch(self, s, p):\n",
    "        \"\"\"\n",
    "        :type s: str\n",
    "        :type p: str\n",
    "        :rtype: bool\n",
    "        \"\"\"\n",
    "        def helper(s, i, p, j):\n",
    "            if j == -1:\n",
    "                return i == -1\n",
    "            if i == -1:\n",
    "                if p[j] != '*':\n",
    "                    return False\n",
    "                return helper(s, i, p, j-2)\n",
    "            if p[j] == '*':\n",
    "                if p[j-1] == '.' or p[j-1] == s[i]:\n",
    "                    if helper(s, i-1, p, j):\n",
    "                        return True\n",
    "                return helper(s, i, p, j-2)\n",
    "            if p[j] == '.' or p[j] == s[i]:\n",
    "                return helper(s, i-1, p, j-1)\n",
    "            return False\n",
    "\n",
    "        return helper(s, len(s)-1, p, len(p)-1)"
   ]
  }
 ],
 "metadata": {
  "kernelspec": {
   "display_name": "Python 3",
   "language": "python",
   "name": "python3"
  },
  "language_info": {
   "codemirror_mode": {
    "name": "ipython",
    "version": 3
   },
   "file_extension": ".py",
   "mimetype": "text/x-python",
   "name": "python",
   "nbconvert_exporter": "python",
   "pygments_lexer": "ipython3",
   "version": "3.5.5"
  }
 },
 "nbformat": 4,
 "nbformat_minor": 2
}
