{
 "cells": [
  {
   "cell_type": "markdown",
   "metadata": {},
   "source": [
    "Write a function to find the longest common prefix string amongst an array of strings.\n",
    "\n",
    "If there is no common prefix, return an empty string \"\".\n",
    "\n",
    "Example 1:\n",
    "\n",
    "Input: [\"flower\",\"flow\",\"flight\"]\n",
    "Output: \"fl\"\n",
    "Example 2:\n",
    "\n",
    "Input: [\"dog\",\"racecar\",\"car\"]\n",
    "Output: \"\"\n",
    "Explanation: There is no common prefix among the input strings.\n",
    "Note:\n",
    "\n",
    "All given inputs are in lowercase letters a-z."
   ]
  },
  {
   "cell_type": "code",
   "execution_count": null,
   "metadata": {},
   "outputs": [],
   "source": [
    "\"\"\"\n",
    "解法1:\n",
    "以一个小例子来解释，strs=['laa', 'lab', 'lac'], 如果存在LCP的话它肯定就在第一个字符串strs[0]中，并且LCP的长度肯定不会大于strs[0]的长度\n",
    "\n",
    "依次假设LCP长度为0到len(strs[0]),在每一轮循环中:  \n",
    "只要strs中存在比当前长度i更短的string，立刻返回上一轮LCP，即strs[0][:i]\n",
    "只要strs中存在当前index字符与LCP该index不相同的字符串，立刻返回上一轮LCP，即strs[0][:i]\n",
    "如果一直没返回，说明strs[0]本身就是LCP，返回它\"\"\"\n",
    "class Solution(object):\n",
    "    def longestCommonPrefix(self, strs):\n",
    "        \"\"\"\n",
    "        :type strs: List[str]\n",
    "        :rtype: str\n",
    "        \"\"\"\n",
    "        if not strs:\n",
    "            return ''\n",
    "        dp = [strs[0]]*len(strs)\n",
    "        for i in range(1,len(strs)):\n",
    "            while not strs[i].startswith(dp[i-1]):\n",
    "                dp[i-1] = dp[i-1][:-1]\n",
    "            dp[i] = dp[i-1]\n",
    "        return dp[-1]"
   ]
  },
  {
   "cell_type": "code",
   "execution_count": null,
   "metadata": {},
   "outputs": [],
   "source": [
    "\"\"\"\n",
    "解法2:\n",
    "dp[i]代表前i+1个字符串的最大前缀串，\n",
    "如果第i+2个字符串不以dp[i]为前缀，就去掉dp[i]的最后一个字符再试一次\n",
    "都去完了那么dp[i+1]肯定就是空串了，也就等于这时候的dp[i]，因为dp[i]的每个字符已经被去完了\n",
    "\"\"\"\n",
    "class Solution(object):\n",
    "    def longestCommonPrefix(self, strs):\n",
    "        \"\"\"\n",
    "        :type strs: List[str]\n",
    "        :rtype: str\n",
    "        \"\"\"\n",
    "        if not strs:\n",
    "            return \"\"\n",
    "        for i in range(len(strs[0])):\n",
    "            for str in strs:\n",
    "                if len(str) <= i or strs[0][i] != str[i]:\n",
    "                    return strs[0][:i]\n",
    "        return strs[0]"
   ]
  },
  {
   "cell_type": "code",
   "execution_count": null,
   "metadata": {},
   "outputs": [],
   "source": [
    "# 其他解法\n",
    "class Solution(object):\n",
    "    def longestCommonPrefix(self, strs):\n",
    "        \"\"\"\n",
    "        :type strs: List[str]\n",
    "        :rtype: str\n",
    "        \"\"\"\n",
    "        return os.path.commonprefix(strs)"
   ]
  }
 ],
 "metadata": {
  "kernelspec": {
   "display_name": "Python 3",
   "language": "python",
   "name": "python3"
  },
  "language_info": {
   "codemirror_mode": {
    "name": "ipython",
    "version": 3
   },
   "file_extension": ".py",
   "mimetype": "text/x-python",
   "name": "python",
   "nbconvert_exporter": "python",
   "pygments_lexer": "ipython3",
   "version": "3.5.5"
  }
 },
 "nbformat": 4,
 "nbformat_minor": 2
}
