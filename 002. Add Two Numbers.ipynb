{
 "cells": [
  {
   "cell_type": "markdown",
   "metadata": {},
   "source": [
    "You are given two non-empty linked lists representing two non-negative integers. The digits are stored in reverse order and each of their nodes contain a single digit. Add the two numbers and return it as a linked list.\n",
    "\n",
    "You may assume the two numbers do not contain any leading zero, except the number 0 itself.\n",
    "\n",
    "Example:\n",
    "\n",
    "Input: (2 -> 4 -> 3) + (5 -> 6 -> 4)\n",
    "Output: 7 -> 0 -> 8\n",
    "Explanation: 342 + 465 = 807."
   ]
  },
  {
   "cell_type": "code",
   "execution_count": null,
   "metadata": {},
   "outputs": [],
   "source": [
    "# 思路 1 ******- 时间复杂度: O(N)******- 空间复杂度: O(N)******\n",
    "\n",
    "# 全部变成数字做加法再换回去呗，这多暴力，爽！\n",
    "class Solution(object):\n",
    "    def addTwoNumbers(self, l1, l2):\n",
    "        \"\"\"\n",
    "        :type l1: ListNode\n",
    "        :type l2: ListNode\n",
    "        :rtype: ListNode\n",
    "        \"\"\"\n",
    "        if not l1:\n",
    "            return l2\n",
    "        if not l2:\n",
    "            return l1\n",
    "        \n",
    "        val1, val2 = [l1.val], [l2.val]\n",
    "        while l1.next:\n",
    "            val1.append(l1.next.val)\n",
    "            l1 = l1.next\n",
    "        while l2.next:\n",
    "            val2.append(l2.next.val)\n",
    "            l2 = l2.next\n",
    "            \n",
    "        num1 = ''.join([str(i) for i in val1[::-1]])\n",
    "        num2 = ''.join([str(i) for i in val2[::-1]])\n",
    "        \n",
    "        tmp = str(int(num1) + int(num2))[::-1]\n",
    "        res = ListNode(int(tmp[0]))\n",
    "        run_res = res\n",
    "        for i in range(1, len(tmp)):\n",
    "            run_res.next = ListNode(int(tmp[i]))\n",
    "            run_res = run_res.next\n",
    "        return res"
   ]
  },
  {
   "cell_type": "code",
   "execution_count": null,
   "metadata": {},
   "outputs": [],
   "source": [
    "# 思路 2 ******- 时间复杂度: O(N)******- 空间复杂度: O(1)******\n",
    "\n",
    "# 可以使用递归，每次算一位的相加, beats 73.53%\n",
    "\n",
    "class Solution(object):\n",
    "    def addTwoNumbers(self, l1, l2):\n",
    "        \"\"\"\n",
    "        :type l1: ListNode\n",
    "        :type l2: ListNode\n",
    "        :rtype: ListNode\n",
    "        \"\"\"\n",
    "        if not l1:\n",
    "            return l2\n",
    "        if not l2:\n",
    "            return l1\n",
    "        \n",
    "        if l1.val + l2.val < 10:\n",
    "            l3 = ListNode(l1.val+l2.val)\n",
    "            l3.next = self.addTwoNumbers(l1.next, l2.next)\n",
    "        else:\n",
    "            l3 = ListNode(l1.val+l2.val-10)\n",
    "            tmp = ListNode(1)\n",
    "            tmp.next = None\n",
    "            l3.next = self.addTwoNumbers(l1.next, self.addTwoNumbers(l2.next, tmp))\n",
    "            \n",
    "        return l3"
   ]
  }
 ],
 "metadata": {
  "kernelspec": {
   "display_name": "Python 3",
   "language": "python",
   "name": "python3"
  },
  "language_info": {
   "codemirror_mode": {
    "name": "ipython",
    "version": 3
   },
   "file_extension": ".py",
   "mimetype": "text/x-python",
   "name": "python",
   "nbconvert_exporter": "python",
   "pygments_lexer": "ipython3",
   "version": "3.5.5"
  }
 },
 "nbformat": 4,
 "nbformat_minor": 2
}
